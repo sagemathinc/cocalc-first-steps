{
 "cells": [
  {
   "cell_type": "markdown",
   "metadata": {
    "collapsed": false
   },
   "source": [
    "# This is a Jupyter Notebook – `*.ipynb`\n",
    "\n",
    "[Jupyter Notebooks](http://jupyter.org/) are an emerging format for sharing scientific calculations in a standardized document.\n",
    "\n",
    "Our Jupyter notebooks are an enhanced version of the normal ones.\n",
    "In addition to the standard features, we offer concurrent editing (Google Docs style), integrated chat, detailed revision history, and a faster interface.\n",
    "\n",
    "With Jupyter, you can select a \"kernel\" which affects how your code is interpreted.\n",
    "\n",
    "CoCalc supports the following kernels:\n",
    "\n",
    "* [Python](https://www.python.org/) -- version 2 and 3.\n",
    "* [Anaconda Python](https://www.anaconda.com/what-is-anaconda/)\n",
    "* [SageMath](https://www.sagemath.org/)  -- [Tutorial](http://doc.sagemath.org/html/en/tutorial/index.html)\n",
    "* [Julia](https://julialang.org/)\n",
    "* [R](https://cran.r-project.org)  -- [Getting Started](https://cran.r-project.org/doc/contrib/Lemon-kickstart/)\n",
    "* [Octave](https://www.gnu.org/software/octave/)\n",
    "* and many more ...\n",
    "\n",
    "### Classical Jupyter Notebook\n",
    "\n",
    "As an backwards compatible alternative to CoCalc's Jupyter Notebook implementation,\n",
    "there is also an enhanced version of the classical Jupyter Notebook available.\n",
    "It offers all original functionalities, but has a few technical drawbacks.\n",
    "Use it when you require full support of the legacy system.\n",
    "\n",
    "- [ ] Read [this overview](https://github.com/sagemathinc/cocalc/wiki/JupyterClassicModern) for more information!\n",
    "\n"
   ]
  },
  {
   "cell_type": "markdown",
   "metadata": {
    "collapsed": false
   },
   "source": [
    "## Linear Algebra"
   ]
  },
  {
   "cell_type": "code",
   "execution_count": 0,
   "metadata": {
    "collapsed": false
   },
   "outputs": [
   ],
   "source": [
    "import numpy as np\n",
    "x = np.array([1, 2, 3])\n",
    "y = np.array([5, 2.2, -1])"
   ]
  },
  {
   "cell_type": "code",
   "execution_count": 0,
   "metadata": {
    "collapsed": false
   },
   "outputs": [
   ],
   "source": [
    "x, y"
   ]
  },
  {
   "cell_type": "code",
   "execution_count": 0,
   "metadata": {
    "collapsed": false
   },
   "outputs": [
   ],
   "source": [
    "x + y"
   ]
  },
  {
   "cell_type": "code",
   "execution_count": 0,
   "metadata": {
    "collapsed": false
   },
   "outputs": [
   ],
   "source": [
    "x.dot(y)"
   ]
  },
  {
   "cell_type": "markdown",
   "metadata": {
    "collapsed": false
   },
   "source": [
    "## Plotting"
   ]
  },
  {
   "cell_type": "code",
   "execution_count": 0,
   "metadata": {
    "collapsed": false
   },
   "outputs": [
   ],
   "source": [
    "import matplotlib.pyplot as plt"
   ]
  },
  {
   "cell_type": "code",
   "execution_count": 0,
   "metadata": {
    "collapsed": false
   },
   "outputs": [
   ],
   "source": [
    "a = np.linspace(0, 3 * np.pi, 1000)\n",
    "b = a * np.sin(a)"
   ]
  },
  {
   "cell_type": "code",
   "execution_count": 0,
   "metadata": {
    "collapsed": false
   },
   "outputs": [
   ],
   "source": [
    "plt.grid()\n",
    "plt.plot(a, b)"
   ]
  },
  {
   "cell_type": "markdown",
   "metadata": {
    "collapsed": false
   },
   "source": [
    "## Programming"
   ]
  },
  {
   "cell_type": "code",
   "execution_count": 0,
   "metadata": {
    "collapsed": false
   },
   "outputs": [
   ],
   "source": [
    "def func1(a, b):\n",
    "    return a + 2*b"
   ]
  },
  {
   "cell_type": "code",
   "execution_count": 0,
   "metadata": {
    "collapsed": false
   },
   "outputs": [
   ],
   "source": [
    "func1(4, 5)"
   ]
  },
  {
   "cell_type": "code",
   "execution_count": 0,
   "metadata": {
    "collapsed": false
   },
   "outputs": [
   ],
   "source": [
    "for i in range(3):\n",
    "    for j in range(5):\n",
    "        z = func1(i, j)\n",
    "        print(\"func1({i}, {j}) = {z}\".format(i = i, j = j, z = z))"
   ]
  },
  {
   "cell_type": "code",
   "execution_count": 0,
   "metadata": {
    "collapsed": false
   },
   "outputs": [
   ],
   "source": [
   ]
  }
 ],
 "metadata": {
  "kernelspec": {
   "display_name": "Python 3 (Anaconda)",
   "language": "python",
   "name": "anaconda3"
  },
  "language_info": {
   "codemirror_mode": {
    "name": "ipython",
    "version": 3
   },
   "file_extension": ".py",
   "mimetype": "text/x-python",
   "name": "python",
   "nbconvert_exporter": "python",
   "pygments_lexer": "ipython3",
   "version": "3.5.4"
  }
 },
 "nbformat": 4,
 "nbformat_minor": 0
}