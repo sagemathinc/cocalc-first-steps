{
 "cells": [
  {
   "cell_type": "markdown",
   "metadata": {
    "collapsed": false
   },
   "source": [
    "# This is a Jupyter Notebook – `*.ipynb`\n",
    "\n",
    "[Jupyter Notebooks](http://jupyter.org/) are an emerging format for sharing scientific calculations in a standardized document.\n",
    "It is made up of a list of input-cells (usually containing code) and corresponding output cells (containing text and/or graphics).\n",
    "There are also \"Markdown\" cells, like the one you're reading right now, containing formatted text to explain the content.\n",
    "\n",
    "## Usage\n",
    "\n",
    "To **evaluate a cell**, select the input cell (click on it, or put the cursor inside of it), and either press the play-button in the button row or press the `Shift`+`Return` keys.\n",
    "Usually, you should be able to go through a full notebook by pressing `Shift`+`Return` for evaluating one cell after another.\n",
    "Try it here after reading this introduction!\n",
    "\n",
    "Each Jupyter Notebook has a corresponding **\"Kernel\"**.\n",
    "It defines the language and back-end you are using when running code in a cell.\n",
    "Look at the top right, there it tells you what the current one is!\n",
    "\n",
    "In the menu, you can select the \"Kernel\" you want to use.\n",
    "For this notebook here, it needs to be Python 3 by Anaconda.\n",
    "\n",
    "CoCalc supports the following kernels:\n",
    "\n",
    "* [Python](https://www.python.org/) -- version 2 and 3.\n",
    "* [Anaconda Python](https://www.anaconda.com/what-is-anaconda/)\n",
    "* [SageMath](https://www.sagemath.org/)  -- [Tutorial](http://doc.sagemath.org/html/en/tutorial/index.html)\n",
    "* [Julia](https://julialang.org/)\n",
    "* [R](https://cran.r-project.org)  -- [Getting Started](https://cran.r-project.org/doc/contrib/Lemon-kickstart/)\n",
    "* [Octave](https://www.gnu.org/software/octave/)\n",
    "* and many more ...\n",
    "\n",
    "## CoCalc Jupyter Notebooks\n",
    "\n",
    "Our Jupyter notebooks are an enhanced version of the legacy implementation.\n",
    "In addition to the standard features, we offer concurrent editing (Google Docs style), integrated chat, detailed revision history, and a faster more scalable interface.\n",
    "\n",
    "## Classical Jupyter Notebook\n",
    "\n",
    "As an backwards compatible alternative to CoCalc's Jupyter Notebook implementation,\n",
    "there is also an enhanced version of the classical Jupyter Notebook available.\n",
    "It offers all original functionalities, but has a few technical drawbacks.\n",
    "Use it when you require full support of the legacy system.\n",
    "\n",
    "---\n",
    "\n",
    "Read [this overview](https://github.com/sagemathinc/cocalc/wiki/JupyterClassicModern) for more information!\n",
    "\n"
   ]
  },
  {
   "cell_type": "markdown",
   "metadata": {
    "collapsed": false
   },
   "source": [
    "## Simple calculations"
   ]
  },
  {
   "cell_type": "code",
   "execution_count": 0,
   "metadata": {
    "collapsed": false
   },
   "outputs": [
   ],
   "source": [
    "apple = 1.3\n",
    "apple"
   ]
  },
  {
   "cell_type": "markdown",
   "metadata": {
    "collapsed": false
   },
   "source": [
    "Note, the variable `apple` from above still exists in the following cell.\n",
    "Such a definition holds as long as the **session** of the kernel is still active.\n",
    "\n",
    "Restart the kernel (in the menu: Kernel -> Restart) and wait spawning up a new session.\n",
    "You'll see that evaluating this next cell will result in an error, because `apple` is no longer defined.\n",
    "\n",
    "`NameError: name 'apple' is not defined`"
   ]
  },
  {
   "cell_type": "code",
   "execution_count": 0,
   "metadata": {
    "collapsed": false
   },
   "outputs": [
   ],
   "source": [
    "2 * apple + 3 * apple"
   ]
  },
  {
   "cell_type": "markdown",
   "metadata": {
    "collapsed": false
   },
   "source": [
    "## Linear Algebra\n",
    "\n",
    "Use [NumPy](http://www.numpy.org/) for working with two three dimensional vectors $\\vec{x}$ and $\\vec{y}$:"
   ]
  },
  {
   "cell_type": "code",
   "execution_count": 0,
   "metadata": {
    "collapsed": false
   },
   "outputs": [
   ],
   "source": [
    "import numpy as np\n",
    "x = np.array([1, 2, 3])\n",
    "y = np.array([5, 2.2, -1])"
   ]
  },
  {
   "cell_type": "code",
   "execution_count": 0,
   "metadata": {
    "collapsed": false
   },
   "outputs": [
   ],
   "source": [
    "x"
   ]
  },
  {
   "cell_type": "code",
   "execution_count": 0,
   "metadata": {
    "collapsed": false
   },
   "outputs": [
   ],
   "source": [
    "y"
   ]
  },
  {
   "cell_type": "code",
   "execution_count": 0,
   "metadata": {
    "collapsed": false
   },
   "outputs": [
   ],
   "source": [
    "x + y"
   ]
  },
  {
   "cell_type": "markdown",
   "metadata": {
    "collapsed": false
   },
   "source": [
    "Dot-product $\\vec{x} \\cdot \\vec{y}$"
   ]
  },
  {
   "cell_type": "code",
   "execution_count": 0,
   "metadata": {
    "collapsed": false
   },
   "outputs": [
   ],
   "source": [
    "x.dot(y)"
   ]
  },
  {
   "cell_type": "markdown",
   "metadata": {
    "collapsed": false
   },
   "source": [
    "## Plotting\n",
    "\n",
    "Familiarize yourself with the excellent [matplotlib](https://matplotlib.org/) library."
   ]
  },
  {
   "cell_type": "code",
   "execution_count": 0,
   "metadata": {
    "collapsed": false
   },
   "outputs": [
   ],
   "source": [
    "import matplotlib.pyplot as plt"
   ]
  },
  {
   "cell_type": "markdown",
   "metadata": {
    "collapsed": false
   },
   "source": [
    "Defining a vector $u$ for the x-values and calculating a corresponding vector $v$ for the y-values."
   ]
  },
  {
   "cell_type": "code",
   "execution_count": 0,
   "metadata": {
    "collapsed": false
   },
   "outputs": [
   ],
   "source": [
    "u = np.linspace(0, 3 * np.pi, 1000)\n",
    "v = u * np.sin(u)"
   ]
  },
  {
   "cell_type": "markdown",
   "metadata": {
    "collapsed": false
   },
   "source": [
    "First 4 values of u and v as (x, y)-coordinates:"
   ]
  },
  {
   "cell_type": "code",
   "execution_count": 0,
   "metadata": {
    "collapsed": false
   },
   "outputs": [
   ],
   "source": [
    "list(zip(u[:4], v[:4]))"
   ]
  },
  {
   "cell_type": "markdown",
   "metadata": {
    "collapsed": false
   },
   "source": [
    "Now, we plot a grid and draw a line through all corresponding x and y values."
   ]
  },
  {
   "cell_type": "code",
   "execution_count": 0,
   "metadata": {
    "collapsed": false
   },
   "outputs": [
   ],
   "source": [
    "plt.grid()\n",
    "plt.plot(u, v)"
   ]
  },
  {
   "cell_type": "markdown",
   "metadata": {
    "collapsed": false
   },
   "source": [
    "## Programming in Python"
   ]
  },
  {
   "cell_type": "markdown",
   "metadata": {
    "collapsed": false
   },
   "source": [
    "Procedural programming's main idea is to define functions for encoding – well – procedures. They're a small \"recipe\" and here is such an example:"
   ]
  },
  {
   "cell_type": "code",
   "execution_count": 0,
   "metadata": {
    "collapsed": false
   },
   "outputs": [
   ],
   "source": [
    "def func1(a, b):\n",
    "    result = a + 2*b\n",
    "    return result"
   ]
  },
  {
   "cell_type": "markdown",
   "metadata": {
    "collapsed": false
   },
   "source": [
    "Now, we \"call\" this function named `func1` – containing the recipe to add the first argument to twice the second argument – and show the result"
   ]
  },
  {
   "cell_type": "code",
   "execution_count": 0,
   "metadata": {
    "collapsed": false
   },
   "outputs": [
   ],
   "source": [
    "func1(4, 5)"
   ]
  },
  {
   "cell_type": "markdown",
   "metadata": {
    "collapsed": false
   },
   "source": [
    "That's `4 + 2 * 5`. Follow where `a` and `b` are in the function to understand what's going on.\n",
    "\n",
    "Now, we try another one:"
   ]
  },
  {
   "cell_type": "code",
   "execution_count": 0,
   "metadata": {
    "collapsed": false
   },
   "outputs": [
   ],
   "source": [
    "func1(8, 1)"
   ]
  },
  {
   "cell_type": "markdown",
   "metadata": {
    "collapsed": false
   },
   "source": [
    "And here we use a nested loop to calculate a whole bunch of them all at once ..."
   ]
  },
  {
   "cell_type": "code",
   "execution_count": 0,
   "metadata": {
    "collapsed": false
   },
   "outputs": [
   ],
   "source": [
    "for i in range(3):\n",
    "    for j in range(5):\n",
    "        z = func1(i, j)\n",
    "        print(\"func1({i}, {j}) = {z}\".format(i = i, j = j, z = z))"
   ]
  },
  {
   "cell_type": "markdown",
   "metadata": {
    "collapsed": false
   },
   "source": [
    "---\n",
    "\n",
    "## Great job!\n",
    "\n",
    "... and don't worry too much about all the details. This tutorial should make you curious about what CoCalc can do for you :-)\n",
    "\n",
    "Now, let's go back to [first-steps.tasks](first-steps.tasks)."
   ]
  },
  {
   "cell_type": "code",
   "execution_count": 0,
   "metadata": {
    "collapsed": false
   },
   "outputs": [
   ],
   "source": [
   ]
  },
  {
   "cell_type": "code",
   "execution_count": 0,
   "metadata": {
    "collapsed": false
   },
   "outputs": [
   ],
   "source": [
   ]
  },
  {
   "cell_type": "code",
   "execution_count": 0,
   "metadata": {
    "collapsed": false
   },
   "outputs": [
   ],
   "source": [
   ]
  }
 ],
 "metadata": {
  "kernelspec": {
   "display_name": "Python 3 (Anaconda)",
   "language": "python",
   "name": "anaconda3"
  },
  "language_info": {
   "codemirror_mode": {
    "name": "ipython",
    "version": 3
   },
   "file_extension": ".py",
   "mimetype": "text/x-python",
   "name": "python",
   "nbconvert_exporter": "python",
   "pygments_lexer": "ipython3",
   "version": "3.5.4"
  }
 },
 "nbformat": 4,
 "nbformat_minor": 0
}